{
  "nbformat": 4,
  "nbformat_minor": 0,
  "metadata": {
    "colab": {
      "name": "week14資料科學",
      "provenance": [],
      "authorship_tag": "ABX9TyNowWpdR5/oyZuv77XgEoGI",
      "include_colab_link": true
    },
    "kernelspec": {
      "name": "python3",
      "display_name": "Python 3"
    }
  },
  "cells": [
    {
      "cell_type": "markdown",
      "metadata": {
        "id": "view-in-github",
        "colab_type": "text"
      },
      "source": [
        "<a href=\"https://colab.research.google.com/github/cherry880706/IDS/blob/master/week14%E8%B3%87%E6%96%99%E7%A7%91%E5%AD%B8.ipynb\" target=\"_parent\"><img src=\"https://colab.research.google.com/assets/colab-badge.svg\" alt=\"Open In Colab\"/></a>"
      ]
    },
    {
      "cell_type": "code",
      "metadata": {
        "id": "Uqa2FD8BTzQX",
        "colab_type": "code",
        "colab": {}
      },
      "source": [
        "def find_bmi(height, weight):\n",
        "    bmi = weight / (height/100)**2\n",
        "    if bmi > 30:\n",
        "        bmi_index = 'Obese'\n",
        "    elif bmi > 25:\n",
        "        bmi_index = 'Overweight'\n",
        "    elif bmi > 18.5:\n",
        "        bmi_index = 'Normal weight'\n",
        "    else:\n",
        "        bmi_index = 'Underweight'\n",
        "    bmi_dict = {\n",
        "        'bmi_value': bmi,\n",
        "        'bmi_index': bmi_index\n",
        "    }\n",
        "    return bmi_dict"
      ],
      "execution_count": 0,
      "outputs": []
    },
    {
      "cell_type": "code",
      "metadata": {
        "id": "igYlK10XT1iO",
        "colab_type": "code",
        "colab": {
          "base_uri": "https://localhost:8080/",
          "height": 34
        },
        "outputId": "7bc651b1-94a8-4626-b689-19d19458327c"
      },
      "source": [
        "find_bmi(198, 129)"
      ],
      "execution_count": 7,
      "outputs": [
        {
          "output_type": "execute_result",
          "data": {
            "text/plain": [
              "{'bmi_index': 'Obese', 'bmi_value': 32.90480563207836}"
            ]
          },
          "metadata": {
            "tags": []
          },
          "execution_count": 7
        }
      ]
    },
    {
      "cell_type": "code",
      "metadata": {
        "id": "XhjPnCUuT1kd",
        "colab_type": "code",
        "colab": {}
      },
      "source": [
        "def find_bmi(height, weight):\n",
        "    bmi = weight / (height/100)**2\n",
        "    if bmi > 30:\n",
        "        bmi_index = 'Obese'\n",
        "    elif bmi > 25:\n",
        "        bmi_index = 'Overweight'\n",
        "    elif bmi > 18.5:\n",
        "        bmi_index = 'Normal weight'\n",
        "    else:\n",
        "        bmi_index = 'Underweight'\n",
        "    return bmi, bmi_index # output as a tuple"
      ],
      "execution_count": 0,
      "outputs": []
    },
    {
      "cell_type": "code",
      "metadata": {
        "id": "ZNDaiHF4T1mt",
        "colab_type": "code",
        "colab": {
          "base_uri": "https://localhost:8080/",
          "height": 34
        },
        "outputId": "bf715140-3557-4709-9eca-3f7e6aeb5c5e"
      },
      "source": [
        "find_bmi(198, 129)"
      ],
      "execution_count": 9,
      "outputs": [
        {
          "output_type": "execute_result",
          "data": {
            "text/plain": [
              "(32.90480563207836, 'Obese')"
            ]
          },
          "metadata": {
            "tags": []
          },
          "execution_count": 9
        }
      ]
    },
    {
      "cell_type": "code",
      "metadata": {
        "id": "UXGJHwUsT1o9",
        "colab_type": "code",
        "colab": {}
      },
      "source": [
        "#寫作一個函數 get_circle_metrics() 預設計算面積、但亦可以計算周長"
      ],
      "execution_count": 0,
      "outputs": []
    },
    {
      "cell_type": "code",
      "metadata": {
        "id": "zMRh_1gxT1q9",
        "colab_type": "code",
        "colab": {
          "base_uri": "https://localhost:8080/",
          "height": 136
        },
        "outputId": "85cfb2d3-0e6a-4e29-c8d9-86d53d98c570"
      },
      "source": [
        "def get_circle_metrics(r, is_area=True):\n",
        "    \"\"\"\n",
        "    依據半徑計算圓形面積或周長\n",
        "    \"\"\"\n",
        "    pi = 3.14156\n",
        "    if is_area:\n",
        "        return pi*r**2   #算面積\n",
        "    else:\n",
        "        return 2*pi*r    #算周長\n",
        "# Use\n",
        "help(get_circle_metrics)\n",
        "print(get_circle_metrics(3))\n",
        "print(get_circle_metrics(3, False))  "
      ],
      "execution_count": 10,
      "outputs": [
        {
          "output_type": "stream",
          "text": [
            "Help on function get_circle_metrics in module __main__:\n",
            "\n",
            "get_circle_metrics(r, is_area=True)\n",
            "    依據半徑計算圓形面積或周長\n",
            "\n",
            "28.27404\n",
            "18.84936\n"
          ],
          "name": "stdout"
        }
      ]
    },
    {
      "cell_type": "code",
      "metadata": {
        "id": "VTpMGFOdXpOL",
        "colab_type": "code",
        "colab": {}
      },
      "source": [
        "#寫作一個函數 get_circle_metrics() 計算面積以及周長"
      ],
      "execution_count": 0,
      "outputs": []
    },
    {
      "cell_type": "code",
      "metadata": {
        "id": "1L8Q3f7AT1xM",
        "colab_type": "code",
        "colab": {
          "base_uri": "https://localhost:8080/",
          "height": 85
        },
        "outputId": "24e97365-d4c5-4d85-e5b3-822413af6312"
      },
      "source": [
        "# Define\n",
        "def get_circle_metrics(r):\n",
        "    \"\"\"\n",
        "    依據半徑計算圓形面積以及周長\n",
        "    \"\"\"\n",
        "    pi = 3.14156\n",
        "    area = pi*r**2\n",
        "    perimeter = 2*pi*r\n",
        "    return area, perimeter\n",
        "# Use\n",
        "print(get_circle_metrics(3))\n",
        "print(type(get_circle_metrics(3)))\n",
        "circle_area, circle_perimeter = get_circle_metrics(3)\n",
        "print(circle_area)\n",
        "print(circle_perimeter)"
      ],
      "execution_count": 11,
      "outputs": [
        {
          "output_type": "stream",
          "text": [
            "(28.27404, 18.84936)\n",
            "<class 'tuple'>\n",
            "28.27404\n",
            "18.84936\n"
          ],
          "name": "stdout"
        }
      ]
    },
    {
      "cell_type": "code",
      "metadata": {
        "id": "dOFZE-zjXiHT",
        "colab_type": "code",
        "colab": {}
      },
      "source": [
        "#彈性參數"
      ],
      "execution_count": 0,
      "outputs": []
    },
    {
      "cell_type": "code",
      "metadata": {
        "id": "Q7ivdeYUXiKT",
        "colab_type": "code",
        "colab": {}
      },
      "source": [
        "def create_prices(*args):\n",
        "    return args"
      ],
      "execution_count": 0,
      "outputs": []
    },
    {
      "cell_type": "code",
      "metadata": {
        "id": "h6G-sEeiXiNZ",
        "colab_type": "code",
        "colab": {
          "base_uri": "https://localhost:8080/",
          "height": 34
        },
        "outputId": "234acb33-17ba-40bd-b578-8b419552a89d"
      },
      "source": [
        "create_prices(25, 35, 45, 60)"
      ],
      "execution_count": 14,
      "outputs": [
        {
          "output_type": "execute_result",
          "data": {
            "text/plain": [
              "(25, 35, 45, 60)"
            ]
          },
          "metadata": {
            "tags": []
          },
          "execution_count": 14
        }
      ]
    },
    {
      "cell_type": "code",
      "metadata": {
        "id": "aR2tnVILXiSb",
        "colab_type": "code",
        "colab": {}
      },
      "source": [
        "def create_prices(*args):\n",
        "    for arg in args:\n",
        "        print(\"$ {:3}\".format(arg))"
      ],
      "execution_count": 0,
      "outputs": []
    },
    {
      "cell_type": "code",
      "metadata": {
        "id": "nVMLDdT_XiXh",
        "colab_type": "code",
        "colab": {
          "base_uri": "https://localhost:8080/",
          "height": 102
        },
        "outputId": "78e95dce-843a-4ba2-b9cc-5c2b0dbdcd3e"
      },
      "source": [
        "create_prices(25, 35, 45, 60, 100)"
      ],
      "execution_count": 16,
      "outputs": [
        {
          "output_type": "stream",
          "text": [
            "$  25\n",
            "$  35\n",
            "$  45\n",
            "$  60\n",
            "$ 100\n"
          ],
          "name": "stdout"
        }
      ]
    },
    {
      "cell_type": "code",
      "metadata": {
        "id": "fhB_1vpdT10l",
        "colab_type": "code",
        "colab": {}
      },
      "source": [
        "#**kwargs 讓使用者使用函數時傳入多個 dict-like 參數"
      ],
      "execution_count": 0,
      "outputs": []
    },
    {
      "cell_type": "code",
      "metadata": {
        "id": "QzFxgGDLT12t",
        "colab_type": "code",
        "colab": {}
      },
      "source": [
        "def print_menu(**kwargs):\n",
        "    return kwargs"
      ],
      "execution_count": 0,
      "outputs": []
    },
    {
      "cell_type": "code",
      "metadata": {
        "id": "qS1PCNsXT143",
        "colab_type": "code",
        "colab": {
          "base_uri": "https://localhost:8080/",
          "height": 68
        },
        "outputId": "1e67dd2a-f0a1-4ff4-f98d-1b7c0d98adfd"
      },
      "source": [
        "print_menu(black_tea=25, bubble_tea=35, ice_cream_tea=40)"
      ],
      "execution_count": 24,
      "outputs": [
        {
          "output_type": "stream",
          "text": [
            "black_tea      : $ 25\n",
            "bubble_tea     : $ 35\n",
            "ice_cream_tea  : $ 40\n"
          ],
          "name": "stdout"
        }
      ]
    },
    {
      "cell_type": "code",
      "metadata": {
        "id": "KYybfN8tecmY",
        "colab_type": "code",
        "colab": {}
      },
      "source": [
        "def print_menu(**kwargs):\n",
        "    for k, v in kwargs.items():\n",
        "        print(\"{:15}: ${:3}\".format(k, v))"
      ],
      "execution_count": 0,
      "outputs": []
    },
    {
      "cell_type": "code",
      "metadata": {
        "id": "AaHHx0OCecqQ",
        "colab_type": "code",
        "colab": {
          "base_uri": "https://localhost:8080/",
          "height": 68
        },
        "outputId": "ab774050-9891-4dca-f598-7ee7dfc90ee0"
      },
      "source": [
        "print_menu(black_tea=25, bubble_tea=35, ice_cream_tea=40)"
      ],
      "execution_count": 26,
      "outputs": [
        {
          "output_type": "stream",
          "text": [
            "black_tea      : $ 25\n",
            "bubble_tea     : $ 35\n",
            "ice_cream_tea  : $ 40\n"
          ],
          "name": "stdout"
        }
      ]
    },
    {
      "cell_type": "code",
      "metadata": {
        "id": "-MtzoyGBhFaJ",
        "colab_type": "code",
        "colab": {}
      },
      "source": [
        "f = open(\"starwars.txt\", \"w\")"
      ],
      "execution_count": 0,
      "outputs": []
    },
    {
      "cell_type": "code",
      "metadata": {
        "id": "licVOWQKhFf5",
        "colab_type": "code",
        "colab": {}
      },
      "source": [
        "f.close()"
      ],
      "execution_count": 0,
      "outputs": []
    },
    {
      "cell_type": "code",
      "metadata": {
        "id": "D78B_aOzhFm-",
        "colab_type": "code",
        "colab": {}
      },
      "source": [
        "f = open(\"starwars.txt\", \"w\")\n",
        "f.write(\"Starwars: A New Hope\")\n",
        "f.close()"
      ],
      "execution_count": 0,
      "outputs": []
    },
    {
      "cell_type": "code",
      "metadata": {
        "id": "8jqxB0TfhFuG",
        "colab_type": "code",
        "colab": {}
      },
      "source": [
        "f = open(\"starwars.txt\", \"a\")\n",
        "f.write(\"Starwars: The Empire Strikes Back\")\n",
        "f.write(\"Starwars: Return of the Jedi\")\n",
        "f.close()"
      ],
      "execution_count": 0,
      "outputs": []
    },
    {
      "cell_type": "code",
      "metadata": {
        "id": "J6mF6CZPjBhF",
        "colab_type": "code",
        "colab": {}
      },
      "source": [
        "#斷行要加反斜線n \\n"
      ],
      "execution_count": 0,
      "outputs": []
    },
    {
      "cell_type": "code",
      "metadata": {
        "id": "RAp8-eKzhF09",
        "colab_type": "code",
        "colab": {}
      },
      "source": [
        "f = open(\"starwars.txt\", \"a\")\n",
        "f.write(\"Starwars: The Empire Strikes Back\\n\")\n",
        "f.write(\"Starwars: Return of the Jedi\\n\")\n",
        "f.close()"
      ],
      "execution_count": 0,
      "outputs": []
    },
    {
      "cell_type": "code",
      "metadata": {
        "id": "EQZPs3Wbeczk",
        "colab_type": "code",
        "colab": {}
      },
      "source": [
        "f = open(\"starwars.txt\", \"r\")\n",
        "f.read()\n",
        "f.close()"
      ],
      "execution_count": 0,
      "outputs": []
    },
    {
      "cell_type": "code",
      "metadata": {
        "id": "GmX3CtCHT169",
        "colab_type": "code",
        "colab": {
          "base_uri": "https://localhost:8080/",
          "height": 153
        },
        "outputId": "d3cb94de-6c32-4e2e-d596-ab8dc7bb699c"
      },
      "source": [
        "f = open(\"starwars.txt\", \"r\")\n",
        "for i in f:\n",
        "    print(i)\n",
        "f.close()"
      ],
      "execution_count": 41,
      "outputs": [
        {
          "output_type": "stream",
          "text": [
            "Starwars: A New HopeStarwars: The Empire Strikes BackStarwars: Return of the JediStarwars: The Empire Strikes Back\n",
            "\n",
            "Starwars: Return of the Jedi\n",
            "\n",
            "Starwars: The Empire Strikes Back\n",
            "\n",
            "Starwars: Return of the Jedi\n",
            "\n"
          ],
          "name": "stdout"
        }
      ]
    },
    {
      "cell_type": "code",
      "metadata": {
        "id": "qXqKLaISkDF2",
        "colab_type": "code",
        "colab": {
          "base_uri": "https://localhost:8080/",
          "height": 68
        },
        "outputId": "25fb0f29-247f-46b2-b2f9-3f0da3812b2d"
      },
      "source": [
        "medium_prices = {\n",
        "    'Black Tea': 20,\n",
        "    'Green Tea': 20,\n",
        "    'Oolong Tea': 25,\n",
        "}\n",
        "for v in medium_prices.values():\n",
        "    print(v + 10)"
      ],
      "execution_count": 44,
      "outputs": [
        {
          "output_type": "stream",
          "text": [
            "30\n",
            "30\n",
            "35\n"
          ],
          "name": "stdout"
        }
      ]
    },
    {
      "cell_type": "code",
      "metadata": {
        "id": "OINBPfuFkDJH",
        "colab_type": "code",
        "colab": {}
      },
      "source": [
        "def add_milk(x):\n",
        "    return x + 10"
      ],
      "execution_count": 0,
      "outputs": []
    },
    {
      "cell_type": "code",
      "metadata": {
        "id": "a-x0p29CkDL-",
        "colab_type": "code",
        "colab": {
          "base_uri": "https://localhost:8080/",
          "height": 68
        },
        "outputId": "30d1e740-9abc-4601-8579-f76106949a99"
      },
      "source": [
        "for v in medium_prices.values():\n",
        "    print(add_milk(v))"
      ],
      "execution_count": 46,
      "outputs": [
        {
          "output_type": "stream",
          "text": [
            "30\n",
            "30\n",
            "35\n"
          ],
          "name": "stdout"
        }
      ]
    },
    {
      "cell_type": "code",
      "metadata": {
        "id": "3kmLnlSekDPU",
        "colab_type": "code",
        "colab": {}
      },
      "source": [
        "#map函數"
      ],
      "execution_count": 0,
      "outputs": []
    },
    {
      "cell_type": "code",
      "metadata": {
        "id": "aDBZHu9dkDhV",
        "colab_type": "code",
        "colab": {
          "base_uri": "https://localhost:8080/",
          "height": 34
        },
        "outputId": "d07fca8b-ede4-4b50-f60b-f86b1131f976"
      },
      "source": [
        "list(map(add_milk, medium_prices.values()))"
      ],
      "execution_count": 47,
      "outputs": [
        {
          "output_type": "execute_result",
          "data": {
            "text/plain": [
              "[30, 30, 35]"
            ]
          },
          "metadata": {
            "tags": []
          },
          "execution_count": 47
        }
      ]
    },
    {
      "cell_type": "code",
      "metadata": {
        "id": "ta96ZvuondVW",
        "colab_type": "code",
        "colab": {}
      },
      "source": [
        "#lambda運用"
      ],
      "execution_count": 0,
      "outputs": []
    },
    {
      "cell_type": "code",
      "metadata": {
        "id": "xsiOcD5vm9ua",
        "colab_type": "code",
        "colab": {
          "base_uri": "https://localhost:8080/",
          "height": 34
        },
        "outputId": "05c65103-748f-4160-bcd0-1c9f66609592"
      },
      "source": [
        "list(map(lambda x : x + 10, medium_prices.values()))"
      ],
      "execution_count": 48,
      "outputs": [
        {
          "output_type": "execute_result",
          "data": {
            "text/plain": [
              "[30, 30, 35]"
            ]
          },
          "metadata": {
            "tags": []
          },
          "execution_count": 48
        }
      ]
    },
    {
      "cell_type": "code",
      "metadata": {
        "id": "3QkLUii6m9zZ",
        "colab_type": "code",
        "colab": {
          "base_uri": "https://localhost:8080/",
          "height": 34
        },
        "outputId": "e877088c-cc0e-48e9-9781-5aabd7db0721"
      },
      "source": [
        "list(map(lambda x : x * 9/5 + 32, [35, 34, 32]))"
      ],
      "execution_count": 49,
      "outputs": [
        {
          "output_type": "execute_result",
          "data": {
            "text/plain": [
              "[95.0, 93.2, 89.6]"
            ]
          },
          "metadata": {
            "tags": []
          },
          "execution_count": 49
        }
      ]
    },
    {
      "cell_type": "code",
      "metadata": {
        "id": "zgtUNXjjm944",
        "colab_type": "code",
        "colab": {
          "base_uri": "https://localhost:8080/",
          "height": 68
        },
        "outputId": "28b6c6e8-8ed6-48b6-fb14-276ce29c53e9"
      },
      "source": [
        "for t in [35, 34, 32]:\n",
        "    print(t * 9/5 + 32)"
      ],
      "execution_count": 50,
      "outputs": [
        {
          "output_type": "stream",
          "text": [
            "95.0\n",
            "93.2\n",
            "89.6\n"
          ],
          "name": "stdout"
        }
      ]
    },
    {
      "cell_type": "code",
      "metadata": {
        "id": "vi4gq_cQm9-a",
        "colab_type": "code",
        "colab": {}
      },
      "source": [
        ""
      ],
      "execution_count": 0,
      "outputs": []
    },
    {
      "cell_type": "code",
      "metadata": {
        "id": "t47nBPGBm-Dq",
        "colab_type": "code",
        "colab": {}
      },
      "source": [
        ""
      ],
      "execution_count": 0,
      "outputs": []
    },
    {
      "cell_type": "code",
      "metadata": {
        "id": "3cvX8X3cm-Iw",
        "colab_type": "code",
        "colab": {}
      },
      "source": [
        ""
      ],
      "execution_count": 0,
      "outputs": []
    },
    {
      "cell_type": "code",
      "metadata": {
        "id": "nx1zUpaET19d",
        "colab_type": "code",
        "colab": {}
      },
      "source": [
        ""
      ],
      "execution_count": 0,
      "outputs": []
    }
  ]
}