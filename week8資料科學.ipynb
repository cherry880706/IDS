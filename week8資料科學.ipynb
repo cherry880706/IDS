{
  "nbformat": 4,
  "nbformat_minor": 0,
  "metadata": {
    "colab": {
      "name": "week8資料科學",
      "provenance": [],
      "authorship_tag": "ABX9TyMMvz99JDVJX8AQr0Fx3C2Y",
      "include_colab_link": true
    },
    "kernelspec": {
      "name": "python3",
      "display_name": "Python 3"
    }
  },
  "cells": [
    {
      "cell_type": "markdown",
      "metadata": {
        "id": "view-in-github",
        "colab_type": "text"
      },
      "source": [
        "<a href=\"https://colab.research.google.com/github/cherry880706/IDS/blob/master/week8%E8%B3%87%E6%96%99%E7%A7%91%E5%AD%B8.ipynb\" target=\"_parent\"><img src=\"https://colab.research.google.com/assets/colab-badge.svg\" alt=\"Open In Colab\"/></a>"
      ]
    },
    {
      "cell_type": "code",
      "metadata": {
        "id": "4LPiJtOyC9UA",
        "colab_type": "code",
        "colab": {}
      },
      "source": [
        "#作業：Fizz-Buzz\n",
        "以 input() 函數請使用者輸入一個正整數\n",
        "如果是 3 的倍數印出 \"Fizz\"\n",
        "如果是 5 的倍數印出 \"Buzz\"\n",
        "如果是 15 的倍數印出 \"Fizz Buzz\"\n",
        "其他情況印出該正整數即可"
      ],
      "execution_count": 0,
      "outputs": []
    },
    {
      "cell_type": "code",
      "metadata": {
        "id": "EDnomZ3sEB8U",
        "colab_type": "code",
        "colab": {
          "base_uri": "https://localhost:8080/",
          "height": 51
        },
        "outputId": "64d67e54-1b91-4335-cee0-a62334b6f039"
      },
      "source": [
        "user_int = int(input(\"請輸入一個正整數:\"))\n",
        "if user_int % 3 == 0:\n",
        "  print(\"Fizz\")\n",
        "elif user_int % 5 == 0: #會先去抓第一塊if除以3print Fizz就不繼續了\n",
        "    print(\"Buzz\")"
      ],
      "execution_count": 2,
      "outputs": [
        {
          "output_type": "stream",
          "text": [
            "請輸入一個正整數:3\n",
            "Fizz\n"
          ],
          "name": "stdout"
        }
      ]
    },
    {
      "cell_type": "code",
      "metadata": {
        "id": "zhlbb2XpC9LY",
        "colab_type": "code",
        "colab": {}
      },
      "source": [
        "\"FizzBuzz錯誤示範\"\n",
        "user_int = int(input(\"請輸入一個正整數:\"))\n",
        "if user_int % 3 == 0:\n",
        "  print(\"Fizz\")\n",
        "  if user_int % 5 == 0: #此處if不是單獨的所以輸入5不會跑出Buzz\n",
        "    print(\"Buzz\")"
      ],
      "execution_count": 0,
      "outputs": []
    },
    {
      "cell_type": "code",
      "metadata": {
        "id": "KNslBkp1FAvk",
        "colab_type": "code",
        "colab": {
          "base_uri": "https://localhost:8080/",
          "height": 51
        },
        "outputId": "4065c3ae-ea67-4520-d992-51f712c45b95"
      },
      "source": [
        "user_int = int(input(\"請輸入一個正整數:\"))\n",
        "if user_int % 3 == 0:\n",
        "  print(\"Fizz\")\n",
        "elif user_int % 5 == 0:\n",
        "    print(\"Buzz\")"
      ],
      "execution_count": 6,
      "outputs": [
        {
          "output_type": "stream",
          "text": [
            "請輸入一個正整數:5\n",
            "Buzz\n"
          ],
          "name": "stdout"
        }
      ]
    },
    {
      "cell_type": "code",
      "metadata": {
        "id": "EJERy8gmFJpI",
        "colab_type": "code",
        "colab": {}
      },
      "source": [
        "\"15錯誤示範，沒有出現Buzz\""
      ],
      "execution_count": 0,
      "outputs": []
    },
    {
      "cell_type": "code",
      "metadata": {
        "id": "iuFjDHvAEi5I",
        "colab_type": "code",
        "colab": {
          "base_uri": "https://localhost:8080/",
          "height": 51
        },
        "outputId": "c61e3e41-d85d-47dd-92d3-6987475643e4"
      },
      "source": [
        "user_int = int(input(\"請輸入一個正整數:\"))\n",
        "if user_int % 3 == 0:\n",
        "  print(\"Fizz\")\n",
        "elif user_int % 5 == 0: #會先去抓第一塊if除以3print Fizz就不繼續了\n",
        "    print(\"Buzz\")"
      ],
      "execution_count": 4,
      "outputs": [
        {
          "output_type": "stream",
          "text": [
            "請輸入一個正整數:15\n",
            "Fizz\n"
          ],
          "name": "stdout"
        }
      ]
    },
    {
      "cell_type": "code",
      "metadata": {
        "id": "yqk69HKSFW9N",
        "colab_type": "code",
        "colab": {}
      },
      "source": [
        "\"15正確式子\""
      ],
      "execution_count": 0,
      "outputs": []
    },
    {
      "cell_type": "code",
      "metadata": {
        "id": "mQp4bbhGEpBo",
        "colab_type": "code",
        "colab": {
          "base_uri": "https://localhost:8080/",
          "height": 68
        },
        "outputId": "86f8b97d-90d1-45a2-85a4-62bdc46a6e5c"
      },
      "source": [
        "user_int = int(input(\"請輸入一個正整數:\"))\n",
        "if user_int % 3 == 0:\n",
        "  print(\"Fizz\")\n",
        "if user_int % 5 == 0:\n",
        "    print(\"Buzz\")"
      ],
      "execution_count": 7,
      "outputs": [
        {
          "output_type": "stream",
          "text": [
            "請輸入一個正整數:15\n",
            "Fizz\n",
            "Buzz\n"
          ],
          "name": "stdout"
        }
      ]
    },
    {
      "cell_type": "code",
      "metadata": {
        "id": "FKKuHpHNFjh4",
        "colab_type": "code",
        "colab": {
          "base_uri": "https://localhost:8080/"
        },
        "outputId": "4dbf99eb-8d6b-4801-ef36-1b4fd9a50e97"
      },
      "source": [
        "\"把除以15移到最前面，把else留給3,5,15之外的數字\""
      ],
      "execution_count": 8,
      "outputs": [
        {
          "output_type": "execute_result",
          "data": {
            "text/plain": [
              "'把除以15移到最前面，把else留給3,5,15之外的數字'"
            ]
          },
          "metadata": {
            "tags": []
          },
          "execution_count": 8
        }
      ]
    },
    {
      "cell_type": "code",
      "metadata": {
        "id": "cdQBYneiFjb2",
        "colab_type": "code",
        "colab": {
          "base_uri": "https://localhost:8080/",
          "height": 51
        },
        "outputId": "0e37d917-bd59-4fd8-bfa9-ae12ec931009"
      },
      "source": [
        "user_int = int(input(\"請輸入一個正整數:\"))\n",
        "if user_int % 15 == 0:\n",
        "  print(\"Fizz Buzz\")    #16在這一條是false\n",
        "elif user_int % 5 == 0: #16在這一條也是false\n",
        "    print(\"Buzz\")\n",
        "elif user_int % 3 == 0: #16在這條也還是false\n",
        "  print(\"Fizz\")\n",
        "else:\n",
        "  print(user_int)      #所以會輸出這條print自己本身的數字"
      ],
      "execution_count": 1,
      "outputs": [
        {
          "output_type": "stream",
          "text": [
            "請輸入一個正整數:16\n",
            "16\n"
          ],
          "name": "stdout"
        }
      ]
    },
    {
      "cell_type": "code",
      "metadata": {
        "id": "AfZqrsCxRuXh",
        "colab_type": "code",
        "colab": {}
      },
      "source": [
        "#隨堂練習：印出介於 x 到 y 之間的奇數（包含 x 與 y 假如它們是奇數）"
      ],
      "execution_count": 0,
      "outputs": []
    },
    {
      "cell_type": "code",
      "metadata": {
        "id": "N9Ds9ryeR2rP",
        "colab_type": "code",
        "outputId": "cd6e5031-9f63-4443-9935-aec9fc3c1ffc",
        "colab": {
          "base_uri": "https://localhost:8080/",
          "height": 102
        }
      },
      "source": [
        "x = int(input(\"請輸入起始的正整數:\"))\n",
        "y = int(input(\"請輸入終止的正整數:\"))\n",
        "i = x # 開始 start(用輸入的X當開始)\n",
        "while i < y: # 結束 stop(用輸入的Y當結束)\n",
        "    print(i) # 反覆執行的任務\n",
        "    i += 2 # 間距 step"
      ],
      "execution_count": 0,
      "outputs": [
        {
          "output_type": "stream",
          "text": [
            "請輸入起始的正整數:5\n",
            "請輸入終止的正整數:10\n",
            "5\n",
            "7\n",
            "9\n"
          ],
          "name": "stdout"
        }
      ]
    },
    {
      "cell_type": "code",
      "metadata": {
        "id": "NdvFBYdxR2us",
        "colab_type": "code",
        "colab": {}
      },
      "source": [
        "#隨堂練習：承接上題，介於 x 到 y 之間的奇數有幾個（包含 x 與 y 假如它們是奇數）"
      ],
      "execution_count": 0,
      "outputs": []
    },
    {
      "cell_type": "code",
      "metadata": {
        "id": "mlCVhMWuR21C",
        "colab_type": "code",
        "outputId": "f8b26c94-8568-4ace-8578-03a53a8a6b81",
        "colab": {
          "base_uri": "https://localhost:8080/",
          "height": 68
        }
      },
      "source": [
        "x = int(input(\"請輸入起始的正整數:\"))\n",
        "y = int(input(\"請輸入終止的正整數:\"))\n",
        "i = x\n",
        "counter = 0\n",
        "while i <=10:\n",
        "    if i % 2 == 1: # 判斷奇數\n",
        "        counter += 1\n",
        "    i += 1\n",
        "print(counter)"
      ],
      "execution_count": 0,
      "outputs": [
        {
          "output_type": "stream",
          "text": [
            "請輸入起始的正整數:5\n",
            "請輸入終止的正整數:10\n",
            "3\n"
          ],
          "name": "stdout"
        }
      ]
    }
  ]
}