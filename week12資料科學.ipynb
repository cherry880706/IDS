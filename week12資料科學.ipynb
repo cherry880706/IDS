{
  "nbformat": 4,
  "nbformat_minor": 0,
  "metadata": {
    "colab": {
      "name": "week12資料科學",
      "provenance": [],
      "authorship_tag": "ABX9TyN3H07bmGO/WVShShg72Vqn",
      "include_colab_link": true
    },
    "kernelspec": {
      "name": "python3",
      "display_name": "Python 3"
    }
  },
  "cells": [
    {
      "cell_type": "markdown",
      "metadata": {
        "id": "view-in-github",
        "colab_type": "text"
      },
      "source": [
        "<a href=\"https://colab.research.google.com/github/cherry880706/IDS/blob/master/week12%E8%B3%87%E6%96%99%E7%A7%91%E5%AD%B8.ipynb\" target=\"_parent\"><img src=\"https://colab.research.google.com/assets/colab-badge.svg\" alt=\"Open In Colab\"/></a>"
      ]
    },
    {
      "cell_type": "code",
      "metadata": {
        "id": "pnzWQRDGnc9I",
        "colab_type": "code",
        "colab": {}
      },
      "source": [
        "\"隨機數\""
      ],
      "execution_count": 0,
      "outputs": []
    },
    {
      "cell_type": "code",
      "metadata": {
        "id": "Zx8J5ap8nzjG",
        "colab_type": "code",
        "colab": {}
      },
      "source": [
        "#產生一個"
      ],
      "execution_count": 0,
      "outputs": []
    },
    {
      "cell_type": "code",
      "metadata": {
        "id": "smey21eXnndj",
        "colab_type": "code",
        "colab": {
          "base_uri": "https://localhost:8080/",
          "height": 34
        },
        "outputId": "f319797b-bced-4e09-81e1-c38475c59551"
      },
      "source": [
        "import random\n",
        "\n",
        "random.randint(1, 1000)"
      ],
      "execution_count": 1,
      "outputs": [
        {
          "output_type": "execute_result",
          "data": {
            "text/plain": [
              "806"
            ]
          },
          "metadata": {
            "tags": []
          },
          "execution_count": 1
        }
      ]
    },
    {
      "cell_type": "code",
      "metadata": {
        "id": "KLESaWUxnnh2",
        "colab_type": "code",
        "colab": {}
      },
      "source": [
        "#產生100個"
      ],
      "execution_count": 0,
      "outputs": []
    },
    {
      "cell_type": "code",
      "metadata": {
        "id": "rwcf5hKZnnoa",
        "colab_type": "code",
        "colab": {
          "base_uri": "https://localhost:8080/",
          "height": 71
        },
        "outputId": "d91600c6-7d22-49fd-dd42-3b59ef045d66"
      },
      "source": [
        "random_integers = []\n",
        "for i in range(100):\n",
        "    rand_int = random.randint(1, 1000)\n",
        "    random_integers.append(rand_int)\n",
        "print(random_integers)\n",
        "print(len(random_integers))"
      ],
      "execution_count": 2,
      "outputs": [
        {
          "output_type": "stream",
          "text": [
            "[211, 759, 540, 202, 505, 500, 653, 53, 489, 63, 226, 65, 22, 222, 255, 165, 611, 794, 692, 645, 827, 435, 74, 583, 570, 835, 927, 916, 90, 679, 53, 962, 853, 153, 888, 576, 269, 837, 427, 76, 920, 381, 587, 196, 27, 856, 936, 809, 205, 970, 625, 947, 654, 642, 440, 103, 232, 817, 733, 789, 905, 45, 539, 47, 387, 576, 184, 493, 593, 190, 233, 28, 397, 827, 98, 441, 167, 454, 893, 274, 307, 219, 550, 144, 816, 66, 530, 480, 544, 64, 893, 914, 845, 746, 969, 163, 253, 123, 184, 618]\n",
            "100\n"
          ],
          "name": "stdout"
        }
      ]
    },
    {
      "cell_type": "code",
      "metadata": {
        "id": "VBzNaMngnntF",
        "colab_type": "code",
        "colab": {}
      },
      "source": [
        "\"find第一大第一小\""
      ],
      "execution_count": 0,
      "outputs": []
    },
    {
      "cell_type": "code",
      "metadata": {
        "id": "srAd1SSInny1",
        "colab_type": "code",
        "colab": {
          "base_uri": "https://localhost:8080/",
          "height": 51
        },
        "outputId": "2c8610a9-7bd9-4b65-cda7-37058c112d00"
      },
      "source": [
        "print(max(random_integers))\n",
        "print(min(random_integers))"
      ],
      "execution_count": 3,
      "outputs": [
        {
          "output_type": "stream",
          "text": [
            "970\n",
            "22\n"
          ],
          "name": "stdout"
        }
      ]
    },
    {
      "cell_type": "code",
      "metadata": {
        "id": "LmiFlxXgn_1D",
        "colab_type": "code",
        "colab": {}
      },
      "source": [
        "\"find第二大第二小\""
      ],
      "execution_count": 0,
      "outputs": []
    },
    {
      "cell_type": "code",
      "metadata": {
        "id": "WsNip-aEnnmL",
        "colab_type": "code",
        "colab": {
          "base_uri": "https://localhost:8080/",
          "height": 88
        },
        "outputId": "174e521b-3f6c-49a8-f86a-3c9e1d8b3b10"
      },
      "source": [
        "rand_int_unique = set(random_integers)\n",
        "rand_int_unique_list = list(rand_int_unique)\n",
        "print(rand_int_unique_list)\n",
        "rand_int_unique_list.sort()\n",
        "print(rand_int_unique_list[1])  # second min\n",
        "print(rand_int_unique_list[-2]) # secomd max"
      ],
      "execution_count": 4,
      "outputs": [
        {
          "output_type": "stream",
          "text": [
            "[530, 22, 27, 540, 539, 28, 544, 550, 45, 47, 53, 570, 63, 576, 65, 66, 64, 583, 74, 587, 76, 593, 90, 98, 611, 103, 618, 625, 123, 642, 645, 653, 654, 144, 153, 163, 165, 679, 167, 692, 184, 190, 196, 202, 205, 211, 219, 733, 222, 226, 232, 233, 746, 759, 253, 255, 269, 274, 789, 794, 809, 816, 817, 307, 827, 835, 837, 845, 853, 856, 888, 893, 381, 387, 905, 397, 914, 916, 920, 927, 936, 427, 435, 947, 440, 441, 962, 454, 969, 970, 480, 489, 493, 500, 505]\n",
            "27\n",
            "969\n"
          ],
          "name": "stdout"
        }
      ]
    },
    {
      "cell_type": "code",
      "metadata": {
        "id": "Uqs-JPwQolER",
        "colab_type": "code",
        "colab": {}
      },
      "source": [
        "\"標記復仇者聯盟上映順序\""
      ],
      "execution_count": 0,
      "outputs": []
    },
    {
      "cell_type": "code",
      "metadata": {
        "id": "Gj6dqpotobFc",
        "colab_type": "code",
        "colab": {
          "base_uri": "https://localhost:8080/",
          "height": 85
        },
        "outputId": "19ba5517-513a-4f0a-e47c-32a1c75f595e"
      },
      "source": [
        "avengers = [\"The Avengers\", \"Avengers: Age of Ultron\", \"Avengers: Infinity War\", \"Avengers: Endgame\"]\n",
        "for i, av in enumerate(avengers):\n",
        "    print(\"第{}部上映的復仇者聯盟是:{}\".format(i+1, av))"
      ],
      "execution_count": 5,
      "outputs": [
        {
          "output_type": "stream",
          "text": [
            "第1部上映的復仇者聯盟是:The Avengers\n",
            "第2部上映的復仇者聯盟是:Avengers: Age of Ultron\n",
            "第3部上映的復仇者聯盟是:Avengers: Infinity War\n",
            "第4部上映的復仇者聯盟是:Avengers: Endgame\n"
          ],
          "name": "stdout"
        }
      ]
    },
    {
      "cell_type": "code",
      "metadata": {
        "id": "8P4c6pNyo2B9",
        "colab_type": "code",
        "colab": {}
      },
      "source": [
        "\"zip應用\""
      ],
      "execution_count": 0,
      "outputs": []
    },
    {
      "cell_type": "code",
      "metadata": {
        "id": "LFnZ4j5DobAk",
        "colab_type": "code",
        "colab": {
          "base_uri": "https://localhost:8080/",
          "height": 85
        },
        "outputId": "02029eb2-1d5e-41ad-da2f-a291f21a0ef9"
      },
      "source": [
        "years = [2012, 2015, 2018, 2019]\n",
        "for year, movie in zip(years, avengers):\n",
        "    print(\"{}上映的年份是{}\".format(movie, year))"
      ],
      "execution_count": 6,
      "outputs": [
        {
          "output_type": "stream",
          "text": [
            "The Avengers上映的年份是2012\n",
            "Avengers: Age of Ultron上映的年份是2015\n",
            "Avengers: Infinity War上映的年份是2018\n",
            "Avengers: Endgame上映的年份是2019\n"
          ],
          "name": "stdout"
        }
      ]
    }
  ]
}