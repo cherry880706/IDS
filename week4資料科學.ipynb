{
  "nbformat": 4,
  "nbformat_minor": 0,
  "metadata": {
    "colab": {
      "name": "week4資料科學.ipynb",
      "provenance": [],
      "authorship_tag": "ABX9TyMCl8f8UZlikOST82aJJv7O",
      "include_colab_link": true
    },
    "kernelspec": {
      "name": "python3",
      "display_name": "Python 3"
    }
  },
  "cells": [
    {
      "cell_type": "markdown",
      "metadata": {
        "id": "view-in-github",
        "colab_type": "text"
      },
      "source": [
        "<a href=\"https://colab.research.google.com/github/cherry880706/IDS/blob/master/week4%E8%B3%87%E6%96%99%E7%A7%91%E5%AD%B8.ipynb\" target=\"_parent\"><img src=\"https://colab.research.google.com/assets/colab-badge.svg\" alt=\"Open In Colab\"/></a>"
      ]
    },
    {
      "cell_type": "code",
      "metadata": {
        "id": "QKRQrG6a4c3I",
        "colab_type": "code",
        "colab": {}
      },
      "source": [
        "作業:\"\"\"\n",
        "(1)P2-27/28 溫度轉換\n",
        "\n",
        "(2)P 2-29 計算俠客歐尼爾巔峰時期的 BMI 身體質量指\n",
        "數\n",
        "\n",
        "(3)P2-42 ：What did Ross say?\n",
        "\n",
        "(4)P2-50 讓使用者輸入城市名稱與天氣，並印出「我在OOO，天氣OOO」\n",
        "\n",
        "(5)P2-68 球員 BMI 與過重判斷 \"\"\""
      ],
      "execution_count": 0,
      "outputs": []
    },
    {
      "cell_type": "code",
      "metadata": {
        "id": "FyU1usZn4qoy",
        "colab_type": "code",
        "outputId": "d75bb4a3-49bb-47be-9b92-74e8e386a803",
        "colab": {
          "base_uri": "https://localhost:8080/",
          "height": 34
        }
      },
      "source": [
        "\"第一題\""
      ],
      "execution_count": 0,
      "outputs": [
        {
          "output_type": "execute_result",
          "data": {
            "text/plain": [
              "'第一題'"
            ]
          },
          "metadata": {
            "tags": []
          },
          "execution_count": 11
        }
      ]
    },
    {
      "cell_type": "code",
      "metadata": {
        "id": "8On58tYK4qrJ",
        "colab_type": "code",
        "outputId": "04100e1e-292a-4b7a-ba3a-f9e993deb9a8",
        "colab": {
          "base_uri": "https://localhost:8080/",
          "height": 34
        }
      },
      "source": [
        "current_celsius = 28\n",
        "current_fahrenheit = current_celsius * 9 / 5 + 32\n",
        "print(current_fahrenheit)"
      ],
      "execution_count": 0,
      "outputs": [
        {
          "output_type": "stream",
          "text": [
            "82.4\n"
          ],
          "name": "stdout"
        }
      ]
    },
    {
      "cell_type": "code",
      "metadata": {
        "id": "ORmmURw04qvI",
        "colab_type": "code",
        "outputId": "926c651e-89c5-4d7e-ca78-feffe7ab11f8",
        "colab": {
          "base_uri": "https://localhost:8080/",
          "height": 34
        }
      },
      "source": [
        "current_fahrenheit = 82.4\n",
        "current_celsius = current_fahrenheit - 32 * 5 / 9\n",
        "print(current_celsius)"
      ],
      "execution_count": 0,
      "outputs": [
        {
          "output_type": "stream",
          "text": [
            "64.62222222222223\n"
          ],
          "name": "stdout"
        }
      ]
    },
    {
      "cell_type": "code",
      "metadata": {
        "id": "VXDH5xb74qxp",
        "colab_type": "code",
        "outputId": "278c2457-4246-4edb-d211-2086fccd6a86",
        "colab": {
          "base_uri": "https://localhost:8080/",
          "height": 34
        }
      },
      "source": [
        "current_fahrenheit = 82.4\n",
        "current_celsius = (current_fahrenheit - 32) * 5 / 9\n",
        "print(current_celsius)"
      ],
      "execution_count": 0,
      "outputs": [
        {
          "output_type": "stream",
          "text": [
            "28.000000000000004\n"
          ],
          "name": "stdout"
        }
      ]
    },
    {
      "cell_type": "code",
      "metadata": {
        "id": "bzazzL834q0b",
        "colab_type": "code",
        "outputId": "d56b2752-2d6c-481a-8e46-eba260ce48f6",
        "colab": {
          "base_uri": "https://localhost:8080/",
          "height": 34
        }
      },
      "source": [
        "\"第二題\""
      ],
      "execution_count": 0,
      "outputs": [
        {
          "output_type": "execute_result",
          "data": {
            "text/plain": [
              "'第二題'"
            ]
          },
          "metadata": {
            "tags": []
          },
          "execution_count": 15
        }
      ]
    },
    {
      "cell_type": "code",
      "metadata": {
        "id": "t4F_kF9z4q2x",
        "colab_type": "code",
        "colab": {}
      },
      "source": [
        "shaq_height = 216\n",
        "shaq_weight = 147"
      ],
      "execution_count": 0,
      "outputs": []
    },
    {
      "cell_type": "code",
      "metadata": {
        "id": "4hIH5k464q5C",
        "colab_type": "code",
        "outputId": "88351ae3-f699-4fe1-c70f-44bf4f60d113",
        "colab": {
          "base_uri": "https://localhost:8080/",
          "height": 34
        }
      },
      "source": [
        "shaq_bmi = shaq_weight / (shaq_height/100)**2\n",
        "print(shaq_bmi)"
      ],
      "execution_count": 0,
      "outputs": [
        {
          "output_type": "stream",
          "text": [
            "31.507201646090532\n"
          ],
          "name": "stdout"
        }
      ]
    },
    {
      "cell_type": "code",
      "metadata": {
        "id": "9KApCXe-4q7R",
        "colab_type": "code",
        "outputId": "d1ad2025-8ddc-4391-bbfa-838f62df8daf",
        "colab": {
          "base_uri": "https://localhost:8080/",
          "height": 34
        }
      },
      "source": [
        "\"第三題\""
      ],
      "execution_count": 0,
      "outputs": [
        {
          "output_type": "execute_result",
          "data": {
            "text/plain": [
              "'第三題'"
            ]
          },
          "metadata": {
            "tags": []
          },
          "execution_count": 18
        }
      ]
    },
    {
      "cell_type": "code",
      "metadata": {
        "id": "gFjFqN5l4q9h",
        "colab_type": "code",
        "outputId": "2fc64507-9ee5-4374-99ac-033232bfd1d5",
        "colab": {
          "base_uri": "https://localhost:8080/",
          "height": 34
        }
      },
      "source": [
        "ross_said = 'Let\\'s put aside the fact that you \\\"accidentally\\\" pick up my grandmother\\'s ring.'\n",
        "print(ross_said)"
      ],
      "execution_count": 0,
      "outputs": [
        {
          "output_type": "stream",
          "text": [
            "Let's put aside the fact that you \"accidentally\" pick up my grandmother's ring.\n"
          ],
          "name": "stdout"
        }
      ]
    },
    {
      "cell_type": "code",
      "metadata": {
        "id": "UMKACSQ5652Z",
        "colab_type": "code",
        "outputId": "7eeb3403-f633-4c4d-fe1b-42d1f9ffe4e0",
        "colab": {
          "base_uri": "https://localhost:8080/",
          "height": 34
        }
      },
      "source": [
        "ross_said = \"Let's put aside the fact that you \\\"accidentally\\\" pick up my grandmother's ring.\"\n",
        "print(ross_said)"
      ],
      "execution_count": 0,
      "outputs": [
        {
          "output_type": "stream",
          "text": [
            "Let's put aside the fact that you \"accidentally\" pick up my grandmother's ring.\n"
          ],
          "name": "stdout"
        }
      ]
    },
    {
      "cell_type": "code",
      "metadata": {
        "id": "7TwOv7st654-",
        "colab_type": "code",
        "outputId": "c4a2e8d6-a69c-437d-e905-e0691a75e764",
        "colab": {
          "base_uri": "https://localhost:8080/",
          "height": 34
        }
      },
      "source": [
        "ross_said = \"\"\"Let's put aside the fact that you \"accidentally\" pick up my grandmother's ring.\"\"\"\n",
        "print(ross_said)"
      ],
      "execution_count": 0,
      "outputs": [
        {
          "output_type": "stream",
          "text": [
            "Let's put aside the fact that you \"accidentally\" pick up my grandmother's ring.\n"
          ],
          "name": "stdout"
        }
      ]
    },
    {
      "cell_type": "code",
      "metadata": {
        "id": "X17ydFud657O",
        "colab_type": "code",
        "outputId": "dd7d94d2-cdb4-40bb-812a-7d7810432a7a",
        "colab": {
          "base_uri": "https://localhost:8080/",
          "height": 34
        }
      },
      "source": [
        "\"第四題\""
      ],
      "execution_count": 0,
      "outputs": [
        {
          "output_type": "execute_result",
          "data": {
            "text/plain": [
              "'第四題'"
            ]
          },
          "metadata": {
            "tags": []
          },
          "execution_count": 22
        }
      ]
    },
    {
      "cell_type": "code",
      "metadata": {
        "id": "ndvWNU1h659f",
        "colab_type": "code",
        "outputId": "72bcf0a4-c332-471b-ca9a-041a642673ae",
        "colab": {
          "base_uri": "https://localhost:8080/",
          "height": 51
        }
      },
      "source": [
        "city_name= input(\"請輸入城市\")\n",
        "current_weather = input(\"請輸入天氣\")"
      ],
      "execution_count": 0,
      "outputs": [
        {
          "output_type": "stream",
          "text": [
            "請輸入城市台北\n",
            "請輸入天氣晴\n"
          ],
          "name": "stdout"
        }
      ]
    },
    {
      "cell_type": "code",
      "metadata": {
        "id": "OY5BpyHS4q_0",
        "colab_type": "code",
        "outputId": "790a6825-1633-4f54-ef56-8d6b04bc736e",
        "colab": {
          "base_uri": "https://localhost:8080/",
          "height": 34
        }
      },
      "source": [
        "print(\"我在{}，天氣{}\".format(city_name, current_weather))"
      ],
      "execution_count": 0,
      "outputs": [
        {
          "output_type": "stream",
          "text": [
            "我在台北，天氣晴\n"
          ],
          "name": "stdout"
        }
      ]
    },
    {
      "cell_type": "code",
      "metadata": {
        "id": "mBeWzLYa4rCz",
        "colab_type": "code",
        "outputId": "2d3ffac3-fd0d-4892-b455-d3fbca0a95a1",
        "colab": {
          "base_uri": "https://localhost:8080/",
          "height": 34
        }
      },
      "source": [
        "\"第五題\""
      ],
      "execution_count": 0,
      "outputs": [
        {
          "output_type": "execute_result",
          "data": {
            "text/plain": [
              "'第五題'"
            ]
          },
          "metadata": {
            "tags": []
          },
          "execution_count": 25
        }
      ]
    },
    {
      "cell_type": "code",
      "metadata": {
        "id": "qDcMQKIZDwD4",
        "colab_type": "code",
        "outputId": "53c2f9ff-dba4-47cf-9896-9ce4acfc1d74",
        "colab": {
          "base_uri": "https://localhost:8080/",
          "height": 68
        }
      },
      "source": [
        "player_name = input(\"請輸入球員姓名\")\n",
        "player_height = input(\"請輸入球員身高\")\n",
        "player_weight = input(\"請輸入球員體重\")\n",
        "player_height = float(player_height)\n",
        "player_weight = float(player_weight)\n",
        "player_bmi = player_weight / (player_height/100)**2"
      ],
      "execution_count": 0,
      "outputs": [
        {
          "output_type": "stream",
          "text": [
            "請輸入球員姓名俠客歐尼爾\n",
            "請輸入球員身高216\n",
            "請輸入球員體重147\n"
          ],
          "name": "stdout"
        }
      ]
    },
    {
      "cell_type": "code",
      "metadata": {
        "id": "eNsHhRkvDwG_",
        "colab_type": "code",
        "outputId": "2864805b-7dfc-417d-957e-98906aae2543",
        "colab": {
          "base_uri": "https://localhost:8080/",
          "height": 68
        }
      },
      "source": [
        "print(player_name)\n",
        "print(player_height)\n",
        "print(player_weight)"
      ],
      "execution_count": 0,
      "outputs": [
        {
          "output_type": "stream",
          "text": [
            "俠客歐尼爾\n",
            "216\n",
            "147\n"
          ],
          "name": "stdout"
        }
      ]
    },
    {
      "cell_type": "code",
      "metadata": {
        "id": "JU-86QXiDwJd",
        "colab_type": "code",
        "outputId": "20e9d453-bd60-4c7d-cb41-d2a518b178fc",
        "colab": {
          "base_uri": "https://localhost:8080/",
          "height": 34
        }
      },
      "source": [
        "player_bmi = player_weight / (player_height/100)**2\n",
        "print(player_bmi)"
      ],
      "execution_count": 0,
      "outputs": [
        {
          "output_type": "stream",
          "text": [
            "31.507201646090532\n"
          ],
          "name": "stdout"
        }
      ]
    },
    {
      "cell_type": "code",
      "metadata": {
        "id": "Y5SxWqKSDwMF",
        "colab_type": "code",
        "outputId": "a6205a3d-94bc-4a2f-fb89-53236137b544",
        "colab": {
          "base_uri": "https://localhost:8080/",
          "height": 51
        }
      },
      "source": [
        "print(\"{}的身體質量指數為:{:.2f}\".format(player_name, player_bmi)) \n",
        "print(\"{}是否過重:{}\".format(player_name, player_bmi > 30))"
      ],
      "execution_count": 0,
      "outputs": [
        {
          "output_type": "stream",
          "text": [
            "俠客歐尼爾的身體質量指數為:31.51\n",
            "俠客歐尼爾是否過重:True\n"
          ],
          "name": "stdout"
        }
      ]
    },
    {
      "cell_type": "code",
      "metadata": {
        "id": "FwHDB_cFDwOL",
        "colab_type": "code",
        "colab": {}
      },
      "source": [
        ""
      ],
      "execution_count": 0,
      "outputs": []
    }
  ]
}