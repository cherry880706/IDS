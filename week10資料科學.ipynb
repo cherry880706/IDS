{
  "nbformat": 4,
  "nbformat_minor": 0,
  "metadata": {
    "colab": {
      "name": "week10資料科學",
      "provenance": [],
      "authorship_tag": "ABX9TyMOQyiGsd6Q5DhM8+mRrXup",
      "include_colab_link": true
    },
    "kernelspec": {
      "name": "python3",
      "display_name": "Python 3"
    }
  },
  "cells": [
    {
      "cell_type": "markdown",
      "metadata": {
        "id": "view-in-github",
        "colab_type": "text"
      },
      "source": [
        "<a href=\"https://colab.research.google.com/github/cherry880706/IDS/blob/master/week10%E8%B3%87%E6%96%99%E7%A7%91%E5%AD%B8.ipynb\" target=\"_parent\"><img src=\"https://colab.research.google.com/assets/colab-badge.svg\" alt=\"Open In Colab\"/></a>"
      ]
    },
    {
      "cell_type": "code",
      "metadata": {
        "id": "HOpFHHoBgI29",
        "colab_type": "code",
        "colab": {}
      },
      "source": [
        "#作業 參考 cast 與 https://www.imdb.com/title/tt4154796 將飾演奇異博士（Doctor Strange）的演員用 indexing 方式選出來"
      ],
      "execution_count": 0,
      "outputs": []
    },
    {
      "cell_type": "code",
      "metadata": {
        "id": "9Zpp3djBhXiu",
        "colab_type": "code",
        "colab": {}
      },
      "source": [
        "\"從開頭\""
      ],
      "execution_count": 0,
      "outputs": []
    },
    {
      "cell_type": "code",
      "metadata": {
        "id": "8diZyx1YgOra",
        "colab_type": "code",
        "colab": {
          "base_uri": "https://localhost:8080/",
          "height": 34
        },
        "outputId": "1917fa13-7b5f-44bf-f619-8741de0affcb"
      },
      "source": [
        "cast = ['Robert Downey Jr.', 'Chris Evans', 'Mark Ruffalo', 'Chris Hemsworth', 'Scarlett Johansson', 'Jeremy Renner', 'Don Cheadle', 'Paul Rudd', 'Benedict Cumberbatch', 'Chadwick Boseman', 'Brie Larson', 'Tom Holland', 'Karen Gillan', 'Zoe Saldana', 'Evangeline Lilly']\n",
        "print(cast[8])"
      ],
      "execution_count": 3,
      "outputs": [
        {
          "output_type": "stream",
          "text": [
            "Benedict Cumberbatch\n"
          ],
          "name": "stdout"
        }
      ]
    },
    {
      "cell_type": "code",
      "metadata": {
        "id": "7Y7T5k12gOu_",
        "colab_type": "code",
        "colab": {}
      },
      "source": [
        "\"從尾巴\""
      ],
      "execution_count": 0,
      "outputs": []
    },
    {
      "cell_type": "code",
      "metadata": {
        "id": "uecLPcixgOyx",
        "colab_type": "code",
        "colab": {
          "base_uri": "https://localhost:8080/",
          "height": 34
        },
        "outputId": "1fe20855-39f1-43b2-a148-7eb4e8001fe7"
      },
      "source": [
        "print(cast[-7])"
      ],
      "execution_count": 4,
      "outputs": [
        {
          "output_type": "stream",
          "text": [
            "Benedict Cumberbatch\n"
          ],
          "name": "stdout"
        }
      ]
    },
    {
      "cell_type": "code",
      "metadata": {
        "id": "tDrLPCcLgO4K",
        "colab_type": "code",
        "colab": {}
      },
      "source": [
        "#作業 參考 cast 與 https://www.imdb.com/title/tt4154796 將第一集復仇者聯盟的六位英雄選出來"
      ],
      "execution_count": 0,
      "outputs": []
    },
    {
      "cell_type": "code",
      "metadata": {
        "id": "pTzZYWk1gPsc",
        "colab_type": "code",
        "colab": {}
      },
      "source": [
        "cast = ['Robert Downey Jr.', 'Chris Evans', 'Mark Ruffalo', 'Chris Hemsworth', 'Scarlett Johansson', 'Jeremy Renner', 'Don Cheadle', 'Paul Rudd', 'Benedict Cumberbatch', 'Chadwick Boseman', 'Brie Larson', 'Tom Holland', 'Karen Gillan', 'Zoe Saldana', 'Evangeline Lilly']"
      ],
      "execution_count": 0,
      "outputs": []
    },
    {
      "cell_type": "code",
      "metadata": {
        "id": "mhp4VpSrgPl9",
        "colab_type": "code",
        "colab": {
          "base_uri": "https://localhost:8080/",
          "height": 34
        },
        "outputId": "d310e7bb-bdb5-41c9-9f60-6150e5bb4095"
      },
      "source": [
        "print(cast[:6])"
      ],
      "execution_count": 6,
      "outputs": [
        {
          "output_type": "stream",
          "text": [
            "['Robert Downey Jr.', 'Chris Evans', 'Mark Ruffalo', 'Chris Hemsworth', 'Scarlett Johansson', 'Jeremy Renner']\n"
          ],
          "name": "stdout"
        }
      ]
    }
  ]
}