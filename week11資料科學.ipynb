{
  "nbformat": 4,
  "nbformat_minor": 0,
  "metadata": {
    "colab": {
      "name": "week11資料科學",
      "provenance": [],
      "authorship_tag": "ABX9TyO3GiQS46BqEpIypkFMU9w7",
      "include_colab_link": true
    },
    "kernelspec": {
      "name": "python3",
      "display_name": "Python 3"
    }
  },
  "cells": [
    {
      "cell_type": "markdown",
      "metadata": {
        "id": "view-in-github",
        "colab_type": "text"
      },
      "source": [
        "<a href=\"https://colab.research.google.com/github/cherry880706/IDS/blob/master/week11%E8%B3%87%E6%96%99%E7%A7%91%E5%AD%B8.ipynb\" target=\"_parent\"><img src=\"https://colab.research.google.com/assets/colab-badge.svg\" alt=\"Open In Colab\"/></a>"
      ]
    },
    {
      "cell_type": "code",
      "metadata": {
        "id": "-ID_9iqvmNJ_",
        "colab_type": "code",
        "colab": {
          "base_uri": "https://localhost:8080/",
          "height": 88
        },
        "outputId": "3ed5f2fe-d684-4456-b768-a405a394c4ac"
      },
      "source": [
        "the_avengers = {\n",
        "    \"Iron Man\": \"Tony Stark\",\n",
        "    \"Captain America\": \"Steve Rogers\",\n",
        "    \"Hulk\": \"Bruce Banner\",\n",
        "    \"Thor\": \"Thor\",\n",
        "    \"Black Widow\": \"Natasha Romanoff\",\n",
        "    \"Hawkeye\": \"Clint Barton\"\n",
        "}\n",
        "\n",
        "print(the_avengers.keys())\n",
        "print(the_avengers.values())\n",
        "print(the_avengers.items())"
      ],
      "execution_count": 5,
      "outputs": [
        {
          "output_type": "stream",
          "text": [
            "dict_keys(['Iron Man', 'Captain America', 'Hulk', 'Thor', 'Black Widow', 'Hawkeye'])\n",
            "dict_values(['Tony Stark', 'Steve Rogers', 'Bruce Banner', 'Thor', 'Natasha Romanoff', 'Clint Barton'])\n",
            "dict_items([('Iron Man', 'Tony Stark'), ('Captain America', 'Steve Rogers'), ('Hulk', 'Bruce Banner'), ('Thor', 'Thor'), ('Black Widow', 'Natasha Romanoff'), ('Hawkeye', 'Clint Barton')])\n"
          ],
          "name": "stdout"
        }
      ]
    },
    {
      "cell_type": "code",
      "metadata": {
        "id": "KbGnKQJ9mXoI",
        "colab_type": "code",
        "colab": {}
      },
      "source": [
        "\"紓困\""
      ],
      "execution_count": 0,
      "outputs": []
    },
    {
      "cell_type": "code",
      "metadata": {
        "id": "a3HGg5Dqi-Sh",
        "colab_type": "code",
        "colab": {
          "base_uri": "https://localhost:8080/",
          "height": 68
        },
        "outputId": "e410639c-2429-4b96-d15a-769fa7d1dfb5"
      },
      "source": [
        "living_area=input(\"請輸入您的居住城市:\")\n",
        "print(living_area)\n",
        "\n",
        "\n",
        "if living_area ==\"臺北市\":\n",
        "  print(\"{}的每人每月最低生活費為{:,}\".format(living_area, 17005))\n",
        "elif living_area == \"新北市\":\n",
        "  print(\"{}的每人每月最低生活費為{:,}\".format(living_area, 15500))\n",
        "elif living_area == \"桃園市\":\n",
        "  print(\"{}的每人每月最低生活費為{:,}\".format(living_area, 15281))\n",
        "elif living_area == \"臺中市\":\n",
        "  print(\"{}的每人每月最低生活費為{:,}\".format(living_area, 14596))  \n",
        "elif living_area == \"臺南市\":\n",
        "  print(\"{}的每人每月最低生活費為{:,}\".format(living_area, 12388))\n",
        "elif living_area ==\"高雄市\":\n",
        "  print(\"{}的每人每月最低生活費為{:,}\".format(living_area, 13099))\n",
        "elif living_area == \"金門縣\":\n",
        "  print(\"{}的每人每月最低生活費為{:,}\".format(living_area, 11648))\n",
        "elif living_area ==\"連江縣\":\n",
        "  print(\"{}的每人每月最低生活費為{:,}\".format(living_area, 11648))\n",
        "elif living_area==\"非六都縣市\":\n",
        "  print(\"{}的每人每月最低生活費為{:,}\".format(living_area, 12388))\n",
        "else:\n",
        "  print(\"請重新輸入!\")"
      ],
      "execution_count": 2,
      "outputs": [
        {
          "output_type": "stream",
          "text": [
            "請輸入您的居住城市:台北\n",
            "台北\n",
            "請重新輸入!\n"
          ],
          "name": "stdout"
        }
      ]
    },
    {
      "cell_type": "code",
      "metadata": {
        "id": "8oUxCUnji-Zf",
        "colab_type": "code",
        "colab": {
          "base_uri": "https://localhost:8080/",
          "height": 68
        },
        "outputId": "0da81460-6572-48ae-e789-56d803edad36"
      },
      "source": [
        "living_area=input(\"請輸入您的居住城市:\")\n",
        "print(living_area)\n",
        "\n",
        "\n",
        "if living_area ==\"臺北市\":\n",
        "  print(\"{}的每人每月最低生活費為{:,}\".format(living_area, 17005))\n",
        "elif living_area == \"新北市\":\n",
        "  print(\"{}的每人每月最低生活費為{:,}\".format(living_area, 15500))\n",
        "elif living_area == \"桃園市\":\n",
        "  print(\"{}的每人每月最低生活費為{:,}\".format(living_area, 15281))\n",
        "elif living_area == \"臺中市\":\n",
        "  print(\"{}的每人每月最低生活費為{:,}\".format(living_area, 14596))  \n",
        "elif living_area == \"臺南市\":\n",
        "  print(\"{}的每人每月最低生活費為{:,}\".format(living_area, 12388))\n",
        "elif living_area ==\"高雄市\":\n",
        "  print(\"{}的每人每月最低生活費為{:,}\".format(living_area, 13099))\n",
        "elif living_area == \"金門縣\":\n",
        "  print(\"{}的每人每月最低生活費為{:,}\".format(living_area, 11648))\n",
        "elif living_area ==\"連江縣\":\n",
        "  print(\"{}的每人每月最低生活費為{:,}\".format(living_area, 11648))\n",
        "elif living_area==\"非六都縣市\":\n",
        "  print(\"{}的每人每月最低生活費為{:,}\".format(living_area, 12388))\n",
        "else:\n",
        "  print(\"請重新輸入!\")"
      ],
      "execution_count": 3,
      "outputs": [
        {
          "output_type": "stream",
          "text": [
            "請輸入您的居住城市:新北市\n",
            "新北市\n",
            "新北市的每人每月最低生活費為15,500\n"
          ],
          "name": "stdout"
        }
      ]
    },
    {
      "cell_type": "code",
      "metadata": {
        "id": "nq2BsOcYi-fR",
        "colab_type": "code",
        "colab": {
          "base_uri": "https://localhost:8080/",
          "height": 51
        },
        "outputId": "273911c4-9bc0-4417-d216-cc93f8f4ce43"
      },
      "source": [
        "living_cost_dict = {\n",
        "    '臺北市': 17005,\n",
        "    '新北市': 15500,\n",
        "    '桃園市': 15281,\n",
        "    '臺中市': 14596,\n",
        "    '臺南市': 12388,\n",
        "    '高雄市': 13099,\n",
        "    '金門縣': 11648,\n",
        "    '連江縣': 11648,\n",
        "    '非六都縣市': 12388\n",
        "}\n",
        "living_area = input('請輸入您的居住縣市:')\n",
        "try:\n",
        "    living_cost = living_cost_dict[living_area]\n",
        "    print(\"{}的每人每月最低生活費為{:,}\".format(living_area, living_cost))\n",
        "except KeyError:\n",
        "    print(\"請重新輸入!!\")"
      ],
      "execution_count": 4,
      "outputs": [
        {
          "output_type": "stream",
          "text": [
            "請輸入您的居住縣市:桃園市\n",
            "桃園市的每人每月最低生活費為15,281\n"
          ],
          "name": "stdout"
        }
      ]
    }
  ]
}