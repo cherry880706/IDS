{
  "nbformat": 4,
  "nbformat_minor": 0,
  "metadata": {
    "colab": {
      "name": "week7資料科學",
      "provenance": [],
      "authorship_tag": "ABX9TyMMMdUK5mt8koF8PC8TlptS",
      "include_colab_link": true
    },
    "kernelspec": {
      "name": "python3",
      "display_name": "Python 3"
    }
  },
  "cells": [
    {
      "cell_type": "markdown",
      "metadata": {
        "id": "view-in-github",
        "colab_type": "text"
      },
      "source": [
        "<a href=\"https://colab.research.google.com/github/cherry880706/IDS/blob/master/week7%E8%B3%87%E6%96%99%E7%A7%91%E5%AD%B8.ipynb\" target=\"_parent\"><img src=\"https://colab.research.google.com/assets/colab-badge.svg\" alt=\"Open In Colab\"/></a>"
      ]
    },
    {
      "cell_type": "code",
      "metadata": {
        "id": "ME3wPZHu4QWb",
        "colab_type": "code",
        "colab": {}
      },
      "source": [
        "#隨堂練習：月薪超過 4 萬或存款超過 50 萬就發信用卡"
      ],
      "execution_count": 0,
      "outputs": []
    },
    {
      "cell_type": "code",
      "metadata": {
        "id": "RpAcGFhD4mhU",
        "colab_type": "code",
        "colab": {
          "base_uri": "https://localhost:8080/",
          "height": 102
        },
        "outputId": "f85b8a34-f525-4226-fde4-0daf679640ae"
      },
      "source": [
        "monthly_income = input(\"請輸入月薪：\") #月薪超過4萬\n",
        "saving_account = input(\"請輸入存款：\")\n",
        "monthly_income = int(monthly_income)\n",
        "saving_account = int(saving_account)\n",
        "print(type(monthly_income))\n",
        "print(type(saving_account))\n",
        "ans = \"\"\n",
        "if monthly_income > 40000 or saving_account > 500000:\n",
        "    ans = \"發信用卡\"\n",
        "print(ans)"
      ],
      "execution_count": 1,
      "outputs": [
        {
          "output_type": "stream",
          "text": [
            "請輸入月薪：40001\n",
            "請輸入存款：499999\n",
            "<class 'int'>\n",
            "<class 'int'>\n",
            "發信用卡\n"
          ],
          "name": "stdout"
        }
      ]
    },
    {
      "cell_type": "code",
      "metadata": {
        "id": "3R-KDS8u4mnp",
        "colab_type": "code",
        "colab": {
          "base_uri": "https://localhost:8080/",
          "height": 102
        },
        "outputId": "a0e8df8f-b2d2-4ac9-edf9-dad504911ad2"
      },
      "source": [
        "monthly_income = input(\"請輸入月薪：\")\n",
        "saving_account = input(\"請輸入存款：\") #存款超過50萬\n",
        "monthly_income = int(monthly_income)\n",
        "saving_account = int(saving_account)\n",
        "print(type(monthly_income))\n",
        "print(type(saving_account))\n",
        "ans = \"\"\n",
        "if monthly_income > 40000 or saving_account > 500000:\n",
        "    ans = \"發信用卡\"\n",
        "print(ans)"
      ],
      "execution_count": 2,
      "outputs": [
        {
          "output_type": "stream",
          "text": [
            "請輸入月薪：39999\n",
            "請輸入存款：500001\n",
            "<class 'int'>\n",
            "<class 'int'>\n",
            "發信用卡\n"
          ],
          "name": "stdout"
        }
      ]
    },
    {
      "cell_type": "code",
      "metadata": {
        "id": "qyY0_d104nN-",
        "colab_type": "code",
        "colab": {}
      },
      "source": [
        "#隨堂練習：判斷奇數偶數"
      ],
      "execution_count": 0,
      "outputs": []
    },
    {
      "cell_type": "code",
      "metadata": {
        "id": "D236yGbr4nMq",
        "colab_type": "code",
        "colab": {
          "base_uri": "https://localhost:8080/",
          "height": 51
        },
        "outputId": "0abe71d2-118f-4691-c2f3-dcce05b2bf63"
      },
      "source": [
        "user_int = input(\"請輸入一個正整數：\")\n",
        "user_int = int(user_int)\n",
        "if user_int % 2 == 0:\n",
        "    ans = \"是偶數!\"\n",
        "else:\n",
        "    ans = \"是奇數!\"\n",
        "print(ans)"
      ],
      "execution_count": 3,
      "outputs": [
        {
          "output_type": "stream",
          "text": [
            "請輸入一個正整數：5566\n",
            "是偶數!\n"
          ],
          "name": "stdout"
        }
      ]
    },
    {
      "cell_type": "code",
      "metadata": {
        "id": "Dao9ID2XJHTq",
        "colab_type": "code",
        "colab": {}
      },
      "source": [
        "#電影評分分辨要不要去影廳看電影"
      ],
      "execution_count": 0,
      "outputs": []
    },
    {
      "cell_type": "code",
      "metadata": {
        "id": "oX1h5JvzJHJH",
        "colab_type": "code",
        "colab": {
          "base_uri": "https://localhost:8080/",
          "height": 68
        },
        "outputId": "8938de66-f8ba-4023-98ab-96eb303a285a"
      },
      "source": [
        "movie_title = input(\"請輸入電影名稱：\")\n",
        "movie_rating = input(\"請輸入電影評分：\")\n",
        "movie_rating = float(movie_rating)\n",
        "\n",
        "if movie_rating > 7:\n",
        "    print(\"去電影院看{}\".format(movie_title))\n",
        "elif movie_rating > 6:\n",
        "    print(\"在家裡看{}\".format(movie_title))\n",
        "elif movie_rating <= 6:\n",
        "    print(\"不要看{}\".format(movie_title))"
      ],
      "execution_count": 4,
      "outputs": [
        {
          "output_type": "stream",
          "text": [
            "請輸入電影名稱：The Shape Of Water\n",
            "請輸入電影評分：7.6\n",
            "去電影院看The Shape Of Water\n"
          ],
          "name": "stdout"
        }
      ]
    },
    {
      "cell_type": "code",
      "metadata": {
        "id": "tm3OaYOuJHHx",
        "colab_type": "code",
        "colab": {
          "base_uri": "https://localhost:8080/",
          "height": 68
        },
        "outputId": "1a45619f-2eb9-4715-f9e2-8574f2c6ce12"
      },
      "source": [
        "movie_title = input(\"請輸入電影名稱：\")\n",
        "movie_rating = input(\"請輸入電影評分：\")\n",
        "movie_rating = float(movie_rating)\n",
        "\n",
        "if movie_rating > 7:\n",
        "    print(\"去電影院看{}\".format(movie_title))\n",
        "elif movie_rating > 6:\n",
        "    print(\"在家裡看{}\".format(movie_title))\n",
        "else:\n",
        "    print(\"不要看{}\".format(movie_title))"
      ],
      "execution_count": 6,
      "outputs": [
        {
          "output_type": "stream",
          "text": [
            "請輸入電影名稱：環大西洋\n",
            "請輸入電影評分：1.6\n",
            "不要看環大西洋\n"
          ],
          "name": "stdout"
        }
      ]
    },
    {
      "cell_type": "code",
      "metadata": {
        "id": "jepNv_Ja4nHF",
        "colab_type": "code",
        "colab": {
          "base_uri": "https://localhost:8080/",
          "height": 51
        },
        "outputId": "3bce1be0-800d-42fe-9831-600eedcb04e5"
      },
      "source": [
        "user_int = input(\"請輸入一個正整數：\")\n",
        "user_int = int(user_int)\n",
        "if user_int % 2 == 0:\n",
        "    ans = \"是偶數!\"\n",
        "else:\n",
        "    ans = \"是奇數!\"\n",
        "print(ans)"
      ],
      "execution_count": 4,
      "outputs": [
        {
          "output_type": "stream",
          "text": [
            "請輸入一個正整數：87\n",
            "是奇數!\n"
          ],
          "name": "stdout"
        }
      ]
    },
    {
      "cell_type": "code",
      "metadata": {
        "id": "Gey-B3w24nDw",
        "colab_type": "code",
        "colab": {}
      },
      "source": [
        "#隨堂練習：依身分證字號尾數決定星期幾可以購買口罩"
      ],
      "execution_count": 0,
      "outputs": []
    },
    {
      "cell_type": "code",
      "metadata": {
        "id": "zjhUPn7W4nCh",
        "colab_type": "code",
        "colab": {
          "base_uri": "https://localhost:8080/",
          "height": 51
        },
        "outputId": "c8cb0b5d-c890-476f-e151-02b8a7ea494d"
      },
      "source": [
        "id_last_digit = input(\"請輸入身分證字號的尾數：\")\n",
        "id_last_digit = int(id_last_digit)\n",
        "if id_last_digit % 2 == 0:\n",
        "    ans = \"星期二四六日領\" #偶數可領的天數\n",
        "else:\n",
        "    ans = \"星期一三五日領\" #奇數可領的天數\n",
        "print(ans)"
      ],
      "execution_count": 5,
      "outputs": [
        {
          "output_type": "stream",
          "text": [
            "請輸入身分證字號的尾數：5\n",
            "星期一三五日領\n"
          ],
          "name": "stdout"
        }
      ]
    },
    {
      "cell_type": "code",
      "metadata": {
        "id": "JhmRL3Al4m_T",
        "colab_type": "code",
        "colab": {
          "base_uri": "https://localhost:8080/",
          "height": 51
        },
        "outputId": "25cebb27-ef78-4640-94e5-ad39d9c5d6d6"
      },
      "source": [
        "id_last_digit = input(\"請輸入身分證字號的尾數：\")\n",
        "id_last_digit = int(id_last_digit)\n",
        "if id_last_digit % 2 == 0:\n",
        "    ans = \"星期二四六日領\" #偶數可領的天數\n",
        "else:\n",
        "    ans = \"星期一三五日領\" #奇數可領的天數\n",
        "print(ans)"
      ],
      "execution_count": 6,
      "outputs": [
        {
          "output_type": "stream",
          "text": [
            "請輸入身分證字號的尾數：4\n",
            "星期二四六日領\n"
          ],
          "name": "stdout"
        }
      ]
    },
    {
      "cell_type": "code",
      "metadata": {
        "id": "lyHN27DKIKhO",
        "colab_type": "code",
        "colab": {}
      },
      "source": [
        "#輸入完整身分證，抓身分證第一個數字，以及分辨性別"
      ],
      "execution_count": 0,
      "outputs": []
    },
    {
      "cell_type": "code",
      "metadata": {
        "id": "TEUrP3YUIUZw",
        "colab_type": "code",
        "colab": {
          "base_uri": "https://localhost:8080/",
          "height": 51
        },
        "outputId": "06ef19f0-b702-4cfe-c185-72fc0c6d99ee"
      },
      "source": [
        "id_number = input(\"請輸入身分證字號：\")\n",
        "id_second_digit = id_number[1]\n",
        "print(id_second_digit)"
      ],
      "execution_count": 11,
      "outputs": [
        {
          "output_type": "stream",
          "text": [
            "請輸入身分證字號：A123456789\n",
            "1\n"
          ],
          "name": "stdout"
        }
      ]
    },
    {
      "cell_type": "code",
      "metadata": {
        "id": "nd57ImBWIUS9",
        "colab_type": "code",
        "colab": {
          "base_uri": "https://localhost:8080/",
          "height": 51
        },
        "outputId": "75c944a6-220d-417c-e9d8-9319ac102291"
      },
      "source": [
        "id_number = input(\"請輸入身分證字號：\")\n",
        "id_second_digit = id_number[1]\n",
        "if id_second_digit == '1':\n",
        "    gender = \"Male\"\n",
        "else:\n",
        "    gender = \"Female\"\n",
        "print(gender)"
      ],
      "execution_count": 12,
      "outputs": [
        {
          "output_type": "stream",
          "text": [
            "請輸入身分證字號：A234567890\n",
            "Female\n"
          ],
          "name": "stdout"
        }
      ]
    },
    {
      "cell_type": "code",
      "metadata": {
        "id": "ZrM9o4os4m-D",
        "colab_type": "code",
        "colab": {}
      },
      "source": [
        "#隨堂練習：判斷 BMI 的類別標籤"
      ],
      "execution_count": 0,
      "outputs": []
    },
    {
      "cell_type": "code",
      "metadata": {
        "id": "nip0jbPp4m37",
        "colab_type": "code",
        "colab": {
          "base_uri": "https://localhost:8080/",
          "height": 85
        },
        "outputId": "e6be06f6-6e93-49d4-859a-2aec7a9f8c7b"
      },
      "source": [
        "input_height = float(input(\"請輸入身高（公分）：\"))\n",
        "input_weight = float(input(\"請輸入體重（公斤）：\"))\n",
        "bmi = input_weight / (input_height*0.01)**2\n",
        "if bmi > 30:\n",
        "    label = \"Obese\"\n",
        "elif bmi > 25:\n",
        "    label = \"Overweight\"\n",
        "elif bmi > 18.5:\n",
        "    label = \"Normal weight\"\n",
        "elif bmi <= 18.5:\n",
        "    label = \"Underweight\"\n",
        "print(bmi)\n",
        "print(label)"
      ],
      "execution_count": 10,
      "outputs": [
        {
          "output_type": "stream",
          "text": [
            "請輸入身高（公分）：200\n",
            "請輸入體重（公斤）：80\n",
            "20.0\n",
            "Normal weight\n"
          ],
          "name": "stdout"
        }
      ]
    },
    {
      "cell_type": "code",
      "metadata": {
        "id": "a9DtmHtL4m1a",
        "colab_type": "code",
        "colab": {
          "base_uri": "https://localhost:8080/",
          "height": 85
        },
        "outputId": "faa07e93-508a-40d2-8890-fa37ba7402b4"
      },
      "source": [
        "input_height = float(input(\"請輸入身高（公分）：\"))\n",
        "input_weight = float(input(\"請輸入體重（公斤）：\"))\n",
        "bmi = input_weight / (input_height*0.01)**2\n",
        "if bmi > 30:\n",
        "    label = \"Obese\"\n",
        "elif bmi > 25:\n",
        "    label = \"Overweight\"\n",
        "elif bmi > 18.5:\n",
        "    label = \"Normal weight\"\n",
        "elif bmi <= 18.5:\n",
        "    label = \"Underweight\"\n",
        "print(bmi)\n",
        "print(label)"
      ],
      "execution_count": 9,
      "outputs": [
        {
          "output_type": "stream",
          "text": [
            "請輸入身高（公分）：170\n",
            "請輸入體重（公斤）：100\n",
            "34.602076124567475\n",
            "Obese\n"
          ],
          "name": "stdout"
        }
      ]
    }
  ]
}